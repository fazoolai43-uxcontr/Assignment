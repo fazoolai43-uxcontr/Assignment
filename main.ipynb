{
 "cells": [
  {
   "cell_type": "code",
   "id": "initial_id",
   "metadata": {
    "collapsed": true,
    "ExecuteTime": {
     "end_time": "2025-10-16T15:14:37.992696Z",
     "start_time": "2025-10-16T15:14:37.987534Z"
    }
   },
   "source": "print(\"Hello World\")",
   "outputs": [
    {
     "name": "stdout",
     "output_type": "stream",
     "text": [
      "Hello World\n"
     ]
    }
   ],
   "execution_count": 1
  },
  {
   "metadata": {
    "ExecuteTime": {
     "end_time": "2025-10-16T15:14:48.610532Z",
     "start_time": "2025-10-16T15:14:38.046407Z"
    }
   },
   "cell_type": "code",
   "source": [
    "a = int(input(\"Enter a number: \"))\n",
    "b = int(input(\"Enter another number: \"))\n",
    "print(a + b)"
   ],
   "id": "57da6c6791188429",
   "outputs": [
    {
     "name": "stdout",
     "output_type": "stream",
     "text": [
      "497\n"
     ]
    }
   ],
   "execution_count": 2
  },
  {
   "metadata": {
    "ExecuteTime": {
     "end_time": "2025-10-16T15:14:49.234095Z",
     "start_time": "2025-10-16T15:14:49.232028Z"
    }
   },
   "cell_type": "code",
   "source": "",
   "id": "564712ffac605a9b",
   "outputs": [],
   "execution_count": null
  }
 ],
 "metadata": {
  "kernelspec": {
   "display_name": "Python 3",
   "language": "python",
   "name": "python3"
  },
  "language_info": {
   "codemirror_mode": {
    "name": "ipython",
    "version": 2
   },
   "file_extension": ".py",
   "mimetype": "text/x-python",
   "name": "python",
   "nbconvert_exporter": "python",
   "pygments_lexer": "ipython2",
   "version": "2.7.6"
  }
 },
 "nbformat": 4,
 "nbformat_minor": 5
}
